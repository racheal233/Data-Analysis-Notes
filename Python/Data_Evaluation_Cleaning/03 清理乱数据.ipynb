{
 "cells": [
  {
   "cell_type": "markdown",
   "id": "8c1def50-8f2c-43b3-b82e-a1a8ce983677",
   "metadata": {},
   "source": [
    "## 一、对数据进行转置df1.T"
   ]
  },
  {
   "cell_type": "code",
   "execution_count": 5,
   "id": "e5e904f1-7d9d-432c-a0b0-fcd747cd9431",
   "metadata": {},
   "outputs": [
    {
     "name": "stderr",
     "output_type": "stream",
     "text": [
      "/var/folders/sb/nwf8c4q943g_qwg33z54xpnr0000gn/T/ipykernel_7387/4080736814.py:1: DeprecationWarning: \n",
      "Pyarrow will become a required dependency of pandas in the next major release of pandas (pandas 3.0),\n",
      "(to allow more performant data types, such as the Arrow string type, and better interoperability with other libraries)\n",
      "but was not found to be installed on your system.\n",
      "If this would cause problems for you,\n",
      "please provide us feedback at https://github.com/pandas-dev/pandas/issues/54466\n",
      "        \n",
      "  import pandas as pd\n"
     ]
    }
   ],
   "source": [
    "import pandas as pd"
   ]
  },
  {
   "cell_type": "code",
   "execution_count": 2,
   "id": "b90062b9-b0ac-48ef-af45-49f720814369",
   "metadata": {},
   "outputs": [
    {
     "data": {
      "text/html": [
       "<div>\n",
       "<style scoped>\n",
       "    .dataframe tbody tr th:only-of-type {\n",
       "        vertical-align: middle;\n",
       "    }\n",
       "\n",
       "    .dataframe tbody tr th {\n",
       "        vertical-align: top;\n",
       "    }\n",
       "\n",
       "    .dataframe thead th {\n",
       "        text-align: right;\n",
       "    }\n",
       "</style>\n",
       "<table border=\"1\" class=\"dataframe\">\n",
       "  <thead>\n",
       "    <tr style=\"text-align: right;\">\n",
       "      <th></th>\n",
       "      <th>0</th>\n",
       "      <th>1</th>\n",
       "      <th>2</th>\n",
       "    </tr>\n",
       "  </thead>\n",
       "  <tbody>\n",
       "    <tr>\n",
       "      <th>姓名</th>\n",
       "      <td>张三</td>\n",
       "      <td>李四</td>\n",
       "      <td>王五</td>\n",
       "    </tr>\n",
       "    <tr>\n",
       "      <th>年龄</th>\n",
       "      <td>30</td>\n",
       "      <td>25</td>\n",
       "      <td>28</td>\n",
       "    </tr>\n",
       "    <tr>\n",
       "      <th>地址</th>\n",
       "      <td>北京</td>\n",
       "      <td>上海</td>\n",
       "      <td>广州</td>\n",
       "    </tr>\n",
       "  </tbody>\n",
       "</table>\n",
       "</div>"
      ],
      "text/plain": [
       "     0   1   2\n",
       "姓名  张三  李四  王五\n",
       "年龄  30  25  28\n",
       "地址  北京  上海  广州"
      ]
     },
     "execution_count": 2,
     "metadata": {},
     "output_type": "execute_result"
    }
   ],
   "source": [
    "df1 = pd.read_csv('example4.csv',index_col=0)\n",
    "df1"
   ]
  },
  {
   "cell_type": "code",
   "execution_count": 3,
   "id": "fb2ec90f-393b-46ea-b0cf-3f6257c73a3e",
   "metadata": {},
   "outputs": [
    {
     "data": {
      "text/html": [
       "<div>\n",
       "<style scoped>\n",
       "    .dataframe tbody tr th:only-of-type {\n",
       "        vertical-align: middle;\n",
       "    }\n",
       "\n",
       "    .dataframe tbody tr th {\n",
       "        vertical-align: top;\n",
       "    }\n",
       "\n",
       "    .dataframe thead th {\n",
       "        text-align: right;\n",
       "    }\n",
       "</style>\n",
       "<table border=\"1\" class=\"dataframe\">\n",
       "  <thead>\n",
       "    <tr style=\"text-align: right;\">\n",
       "      <th></th>\n",
       "      <th>姓名</th>\n",
       "      <th>年龄</th>\n",
       "      <th>地址</th>\n",
       "    </tr>\n",
       "  </thead>\n",
       "  <tbody>\n",
       "    <tr>\n",
       "      <th>0</th>\n",
       "      <td>张三</td>\n",
       "      <td>30</td>\n",
       "      <td>北京</td>\n",
       "    </tr>\n",
       "    <tr>\n",
       "      <th>1</th>\n",
       "      <td>李四</td>\n",
       "      <td>25</td>\n",
       "      <td>上海</td>\n",
       "    </tr>\n",
       "    <tr>\n",
       "      <th>2</th>\n",
       "      <td>王五</td>\n",
       "      <td>28</td>\n",
       "      <td>广州</td>\n",
       "    </tr>\n",
       "  </tbody>\n",
       "</table>\n",
       "</div>"
      ],
      "text/plain": [
       "   姓名  年龄  地址\n",
       "0  张三  30  北京\n",
       "1  李四  25  上海\n",
       "2  王五  28  广州"
      ]
     },
     "execution_count": 3,
     "metadata": {},
     "output_type": "execute_result"
    }
   ],
   "source": [
    "df1 = df1.T\n",
    "df1"
   ]
  },
  {
   "cell_type": "markdown",
   "id": "6684add4-cdf1-4fce-800f-37f787ce3633",
   "metadata": {},
   "source": [
    "## 二、对列进行拆分"
   ]
  },
  {
   "cell_type": "code",
   "execution_count": 5,
   "id": "2574e86c-7592-4b93-b639-711f7744a15b",
   "metadata": {},
   "outputs": [
    {
     "data": {
      "text/html": [
       "<div>\n",
       "<style scoped>\n",
       "    .dataframe tbody tr th:only-of-type {\n",
       "        vertical-align: middle;\n",
       "    }\n",
       "\n",
       "    .dataframe tbody tr th {\n",
       "        vertical-align: top;\n",
       "    }\n",
       "\n",
       "    .dataframe thead th {\n",
       "        text-align: right;\n",
       "    }\n",
       "</style>\n",
       "<table border=\"1\" class=\"dataframe\">\n",
       "  <thead>\n",
       "    <tr style=\"text-align: right;\">\n",
       "      <th></th>\n",
       "      <th>城市</th>\n",
       "      <th>人口密度</th>\n",
       "    </tr>\n",
       "  </thead>\n",
       "  <tbody>\n",
       "    <tr>\n",
       "      <th>0</th>\n",
       "      <td>城市A</td>\n",
       "      <td>28.53万人/0.87平方公里</td>\n",
       "    </tr>\n",
       "    <tr>\n",
       "      <th>1</th>\n",
       "      <td>城市B</td>\n",
       "      <td>37.83万人/2.19平方公里</td>\n",
       "    </tr>\n",
       "    <tr>\n",
       "      <th>2</th>\n",
       "      <td>城市C</td>\n",
       "      <td>15.3万人/1.57平方公里</td>\n",
       "    </tr>\n",
       "  </tbody>\n",
       "</table>\n",
       "</div>"
      ],
      "text/plain": [
       "    城市              人口密度\n",
       "0  城市A  28.53万人/0.87平方公里\n",
       "1  城市B  37.83万人/2.19平方公里\n",
       "2  城市C   15.3万人/1.57平方公里"
      ]
     },
     "execution_count": 5,
     "metadata": {},
     "output_type": "execute_result"
    }
   ],
   "source": [
    "df2 = pd.read_csv('example5.csv',index_col=0)\n",
    "df2"
   ]
  },
  {
   "cell_type": "markdown",
   "id": "b4aa0974-dcfe-4e13-b5b6-d0d0fe0d369a",
   "metadata": {},
   "source": [
    "### 1.针对单独的python字符串\n",
    "\n",
    "split方法，参数可以指定分隔符，得到拆分后的字符串立标"
   ]
  },
  {
   "cell_type": "code",
   "execution_count": 6,
   "id": "3092e07c-7812-424b-95f3-0b89fd93138c",
   "metadata": {},
   "outputs": [
    {
     "data": {
      "text/plain": [
       "['28.53万人', '0.87平方公里']"
      ]
     },
     "execution_count": 6,
     "metadata": {},
     "output_type": "execute_result"
    }
   ],
   "source": [
    "\"28.53万人/0.87平方公里\".split('/')"
   ]
  },
  {
   "cell_type": "markdown",
   "id": "7c0ebb45-a9f7-41af-b477-b79f8a7e721e",
   "metadata": {},
   "source": [
    "2.针对series\n",
    "\n",
    "str.split方法，参数可以指定分隔符，拆分字符串，调用后返回一个新的Series，每一个元素是一个列表。\n",
    "\n",
    "但这没有达到拆分列的效果，因为Series只能表示DataFrame的一列，而我们希望拆分成多列。"
   ]
  },
  {
   "cell_type": "code",
   "execution_count": 7,
   "id": "fddcd2af-1184-4c47-a8bc-6aa324f0099b",
   "metadata": {},
   "outputs": [
    {
     "data": {
      "text/plain": [
       "0    [28.53万人, 0.87平方公里]\n",
       "1    [37.83万人, 2.19平方公里]\n",
       "2     [15.3万人, 1.57平方公里]\n",
       "Name: 人口密度, dtype: object"
      ]
     },
     "execution_count": 7,
     "metadata": {},
     "output_type": "execute_result"
    }
   ],
   "source": [
    "df2['人口密度'].str.split('/')"
   ]
  },
  {
   "cell_type": "markdown",
   "id": "c7cf5476-c57c-4a16-a249-16efb506244e",
   "metadata": {},
   "source": [
    "3.拆分列\n",
    "\n",
    "仍然使用str.split方法，额外指定一个可选参数expand=True，表示把分隔后的结果分别用单独的Series表示，这样输出结果就会变成一个包含多列的DataFrame"
   ]
  },
  {
   "cell_type": "code",
   "execution_count": 9,
   "id": "1b5b19c0-9646-4197-b5de-0f29c91eb6ca",
   "metadata": {},
   "outputs": [
    {
     "data": {
      "text/html": [
       "<div>\n",
       "<style scoped>\n",
       "    .dataframe tbody tr th:only-of-type {\n",
       "        vertical-align: middle;\n",
       "    }\n",
       "\n",
       "    .dataframe tbody tr th {\n",
       "        vertical-align: top;\n",
       "    }\n",
       "\n",
       "    .dataframe thead th {\n",
       "        text-align: right;\n",
       "    }\n",
       "</style>\n",
       "<table border=\"1\" class=\"dataframe\">\n",
       "  <thead>\n",
       "    <tr style=\"text-align: right;\">\n",
       "      <th></th>\n",
       "      <th>0</th>\n",
       "      <th>1</th>\n",
       "    </tr>\n",
       "  </thead>\n",
       "  <tbody>\n",
       "    <tr>\n",
       "      <th>0</th>\n",
       "      <td>28.53万人</td>\n",
       "      <td>0.87平方公里</td>\n",
       "    </tr>\n",
       "    <tr>\n",
       "      <th>1</th>\n",
       "      <td>37.83万人</td>\n",
       "      <td>2.19平方公里</td>\n",
       "    </tr>\n",
       "    <tr>\n",
       "      <th>2</th>\n",
       "      <td>15.3万人</td>\n",
       "      <td>1.57平方公里</td>\n",
       "    </tr>\n",
       "  </tbody>\n",
       "</table>\n",
       "</div>"
      ],
      "text/plain": [
       "         0         1\n",
       "0  28.53万人  0.87平方公里\n",
       "1  37.83万人  2.19平方公里\n",
       "2   15.3万人  1.57平方公里"
      ]
     },
     "execution_count": 9,
     "metadata": {},
     "output_type": "execute_result"
    }
   ],
   "source": [
    "df2['人口密度'].str.split('/',expand=True)"
   ]
  },
  {
   "cell_type": "markdown",
   "id": "efbef291-f2bb-4485-9da9-866d0dbd14e2",
   "metadata": {},
   "source": [
    "### 2.把新生成的dataframe添加进原来的dataframe"
   ]
  },
  {
   "cell_type": "code",
   "execution_count": 11,
   "id": "85c27bc2-3cb7-49e9-84fb-c71945e55573",
   "metadata": {},
   "outputs": [
    {
     "data": {
      "text/html": [
       "<div>\n",
       "<style scoped>\n",
       "    .dataframe tbody tr th:only-of-type {\n",
       "        vertical-align: middle;\n",
       "    }\n",
       "\n",
       "    .dataframe tbody tr th {\n",
       "        vertical-align: top;\n",
       "    }\n",
       "\n",
       "    .dataframe thead th {\n",
       "        text-align: right;\n",
       "    }\n",
       "</style>\n",
       "<table border=\"1\" class=\"dataframe\">\n",
       "  <thead>\n",
       "    <tr style=\"text-align: right;\">\n",
       "      <th></th>\n",
       "      <th>城市</th>\n",
       "      <th>人口密度</th>\n",
       "      <th>人口</th>\n",
       "      <th>面积</th>\n",
       "    </tr>\n",
       "  </thead>\n",
       "  <tbody>\n",
       "    <tr>\n",
       "      <th>0</th>\n",
       "      <td>城市A</td>\n",
       "      <td>28.53万人/0.87平方公里</td>\n",
       "      <td>28.53万人</td>\n",
       "      <td>0.87平方公里</td>\n",
       "    </tr>\n",
       "    <tr>\n",
       "      <th>1</th>\n",
       "      <td>城市B</td>\n",
       "      <td>37.83万人/2.19平方公里</td>\n",
       "      <td>37.83万人</td>\n",
       "      <td>2.19平方公里</td>\n",
       "    </tr>\n",
       "    <tr>\n",
       "      <th>2</th>\n",
       "      <td>城市C</td>\n",
       "      <td>15.3万人/1.57平方公里</td>\n",
       "      <td>15.3万人</td>\n",
       "      <td>1.57平方公里</td>\n",
       "    </tr>\n",
       "  </tbody>\n",
       "</table>\n",
       "</div>"
      ],
      "text/plain": [
       "    城市              人口密度       人口        面积\n",
       "0  城市A  28.53万人/0.87平方公里  28.53万人  0.87平方公里\n",
       "1  城市B  37.83万人/2.19平方公里  37.83万人  2.19平方公里\n",
       "2  城市C   15.3万人/1.57平方公里   15.3万人  1.57平方公里"
      ]
     },
     "execution_count": 11,
     "metadata": {},
     "output_type": "execute_result"
    }
   ],
   "source": [
    "df2[['人口','面积']] = df2['人口密度'].str.split('/',expand=True)\n",
    "df2"
   ]
  },
  {
   "cell_type": "markdown",
   "id": "5d0de9b3-52f0-479f-a436-07ac40a92267",
   "metadata": {},
   "source": [
    "### 3.删除拆分前的列"
   ]
  },
  {
   "cell_type": "code",
   "execution_count": 12,
   "id": "fec6e2d7-c457-41f7-8893-9baac80897b3",
   "metadata": {},
   "outputs": [
    {
     "data": {
      "text/html": [
       "<div>\n",
       "<style scoped>\n",
       "    .dataframe tbody tr th:only-of-type {\n",
       "        vertical-align: middle;\n",
       "    }\n",
       "\n",
       "    .dataframe tbody tr th {\n",
       "        vertical-align: top;\n",
       "    }\n",
       "\n",
       "    .dataframe thead th {\n",
       "        text-align: right;\n",
       "    }\n",
       "</style>\n",
       "<table border=\"1\" class=\"dataframe\">\n",
       "  <thead>\n",
       "    <tr style=\"text-align: right;\">\n",
       "      <th></th>\n",
       "      <th>城市</th>\n",
       "      <th>人口</th>\n",
       "      <th>面积</th>\n",
       "    </tr>\n",
       "  </thead>\n",
       "  <tbody>\n",
       "    <tr>\n",
       "      <th>0</th>\n",
       "      <td>城市A</td>\n",
       "      <td>28.53万人</td>\n",
       "      <td>0.87平方公里</td>\n",
       "    </tr>\n",
       "    <tr>\n",
       "      <th>1</th>\n",
       "      <td>城市B</td>\n",
       "      <td>37.83万人</td>\n",
       "      <td>2.19平方公里</td>\n",
       "    </tr>\n",
       "    <tr>\n",
       "      <th>2</th>\n",
       "      <td>城市C</td>\n",
       "      <td>15.3万人</td>\n",
       "      <td>1.57平方公里</td>\n",
       "    </tr>\n",
       "  </tbody>\n",
       "</table>\n",
       "</div>"
      ],
      "text/plain": [
       "    城市       人口        面积\n",
       "0  城市A  28.53万人  0.87平方公里\n",
       "1  城市B  37.83万人  2.19平方公里\n",
       "2  城市C   15.3万人  1.57平方公里"
      ]
     },
     "execution_count": 12,
     "metadata": {},
     "output_type": "execute_result"
    }
   ],
   "source": [
    "df2 = df2.drop('人口密度',axis=1)\n",
    "df2"
   ]
  },
  {
   "cell_type": "markdown",
   "id": "7dcfece0-84ed-497a-9216-11f09a71761e",
   "metadata": {},
   "source": [
    "## 三、把不同列合并成一列"
   ]
  },
  {
   "cell_type": "code",
   "execution_count": 16,
   "id": "4af6f38a-7f44-4fe9-abb5-9ca266ba6f72",
   "metadata": {},
   "outputs": [
    {
     "data": {
      "text/html": [
       "<div>\n",
       "<style scoped>\n",
       "    .dataframe tbody tr th:only-of-type {\n",
       "        vertical-align: middle;\n",
       "    }\n",
       "\n",
       "    .dataframe tbody tr th {\n",
       "        vertical-align: top;\n",
       "    }\n",
       "\n",
       "    .dataframe thead th {\n",
       "        text-align: right;\n",
       "    }\n",
       "</style>\n",
       "<table border=\"1\" class=\"dataframe\">\n",
       "  <thead>\n",
       "    <tr style=\"text-align: right;\">\n",
       "      <th></th>\n",
       "      <th>姓</th>\n",
       "      <th>名</th>\n",
       "      <th>年龄</th>\n",
       "    </tr>\n",
       "  </thead>\n",
       "  <tbody>\n",
       "    <tr>\n",
       "      <th>0</th>\n",
       "      <td>张</td>\n",
       "      <td>三</td>\n",
       "      <td>30</td>\n",
       "    </tr>\n",
       "    <tr>\n",
       "      <th>1</th>\n",
       "      <td>李</td>\n",
       "      <td>四</td>\n",
       "      <td>25</td>\n",
       "    </tr>\n",
       "    <tr>\n",
       "      <th>2</th>\n",
       "      <td>王</td>\n",
       "      <td>五</td>\n",
       "      <td>35</td>\n",
       "    </tr>\n",
       "  </tbody>\n",
       "</table>\n",
       "</div>"
      ],
      "text/plain": [
       "   姓  名  年龄\n",
       "0  张  三  30\n",
       "1  李  四  25\n",
       "2  王  五  35"
      ]
     },
     "execution_count": 16,
     "metadata": {},
     "output_type": "execute_result"
    }
   ],
   "source": [
    "df3 = pd.read_csv('example6.csv',index_col=0)\n",
    "df3"
   ]
  },
  {
   "cell_type": "code",
   "execution_count": 19,
   "id": "a93ce9e9-0caa-4f78-90d9-b9f135039ac3",
   "metadata": {},
   "outputs": [
    {
     "data": {
      "text/html": [
       "<div>\n",
       "<style scoped>\n",
       "    .dataframe tbody tr th:only-of-type {\n",
       "        vertical-align: middle;\n",
       "    }\n",
       "\n",
       "    .dataframe tbody tr th {\n",
       "        vertical-align: top;\n",
       "    }\n",
       "\n",
       "    .dataframe thead th {\n",
       "        text-align: right;\n",
       "    }\n",
       "</style>\n",
       "<table border=\"1\" class=\"dataframe\">\n",
       "  <thead>\n",
       "    <tr style=\"text-align: right;\">\n",
       "      <th></th>\n",
       "      <th>姓</th>\n",
       "      <th>名</th>\n",
       "      <th>年龄</th>\n",
       "      <th>姓名</th>\n",
       "    </tr>\n",
       "  </thead>\n",
       "  <tbody>\n",
       "    <tr>\n",
       "      <th>0</th>\n",
       "      <td>张</td>\n",
       "      <td>三</td>\n",
       "      <td>30</td>\n",
       "      <td>张三</td>\n",
       "    </tr>\n",
       "    <tr>\n",
       "      <th>1</th>\n",
       "      <td>李</td>\n",
       "      <td>四</td>\n",
       "      <td>25</td>\n",
       "      <td>李四</td>\n",
       "    </tr>\n",
       "    <tr>\n",
       "      <th>2</th>\n",
       "      <td>王</td>\n",
       "      <td>五</td>\n",
       "      <td>35</td>\n",
       "      <td>王五</td>\n",
       "    </tr>\n",
       "  </tbody>\n",
       "</table>\n",
       "</div>"
      ],
      "text/plain": [
       "   姓  名  年龄  姓名\n",
       "0  张  三  30  张三\n",
       "1  李  四  25  李四\n",
       "2  王  五  35  王五"
      ]
     },
     "execution_count": 19,
     "metadata": {},
     "output_type": "execute_result"
    }
   ],
   "source": [
    "df3['姓名'] = df3['姓'].str.cat(df3['名'])\n",
    "df3"
   ]
  },
  {
   "cell_type": "code",
   "execution_count": 20,
   "id": "94f2607f-e997-4a78-9048-1657d8d30d22",
   "metadata": {},
   "outputs": [
    {
     "data": {
      "text/html": [
       "<div>\n",
       "<style scoped>\n",
       "    .dataframe tbody tr th:only-of-type {\n",
       "        vertical-align: middle;\n",
       "    }\n",
       "\n",
       "    .dataframe tbody tr th {\n",
       "        vertical-align: top;\n",
       "    }\n",
       "\n",
       "    .dataframe thead th {\n",
       "        text-align: right;\n",
       "    }\n",
       "</style>\n",
       "<table border=\"1\" class=\"dataframe\">\n",
       "  <thead>\n",
       "    <tr style=\"text-align: right;\">\n",
       "      <th></th>\n",
       "      <th>年龄</th>\n",
       "      <th>姓名</th>\n",
       "    </tr>\n",
       "  </thead>\n",
       "  <tbody>\n",
       "    <tr>\n",
       "      <th>0</th>\n",
       "      <td>30</td>\n",
       "      <td>张三</td>\n",
       "    </tr>\n",
       "    <tr>\n",
       "      <th>1</th>\n",
       "      <td>25</td>\n",
       "      <td>李四</td>\n",
       "    </tr>\n",
       "    <tr>\n",
       "      <th>2</th>\n",
       "      <td>35</td>\n",
       "      <td>王五</td>\n",
       "    </tr>\n",
       "  </tbody>\n",
       "</table>\n",
       "</div>"
      ],
      "text/plain": [
       "   年龄  姓名\n",
       "0  30  张三\n",
       "1  25  李四\n",
       "2  35  王五"
      ]
     },
     "execution_count": 20,
     "metadata": {},
     "output_type": "execute_result"
    }
   ],
   "source": [
    "df3 = df3.drop(['姓','名'], axis=1)\n",
    "df3"
   ]
  },
  {
   "cell_type": "markdown",
   "id": "bb7243fc-a5e7-450d-957d-e3ff9ce13377",
   "metadata": {},
   "source": [
    "### 四、把宽数据转换成长数据\n",
    "即重塑列，具体来说是在把一部分列名，转换为变量，pd.melt方法，可以帮我们进行这方面的转换。"
   ]
  },
  {
   "cell_type": "code",
   "execution_count": 7,
   "id": "28b43599-f29c-401e-a4d8-ebde07ebbade",
   "metadata": {},
   "outputs": [
    {
     "data": {
      "text/html": [
       "<div>\n",
       "<style scoped>\n",
       "    .dataframe tbody tr th:only-of-type {\n",
       "        vertical-align: middle;\n",
       "    }\n",
       "\n",
       "    .dataframe tbody tr th {\n",
       "        vertical-align: top;\n",
       "    }\n",
       "\n",
       "    .dataframe thead th {\n",
       "        text-align: right;\n",
       "    }\n",
       "</style>\n",
       "<table border=\"1\" class=\"dataframe\">\n",
       "  <thead>\n",
       "    <tr style=\"text-align: right;\">\n",
       "      <th></th>\n",
       "      <th>国家代码</th>\n",
       "      <th>年份</th>\n",
       "      <th>男性年龄组（0-4岁）</th>\n",
       "      <th>男性年龄组（5-14岁）</th>\n",
       "      <th>男性年龄组（15-24岁）</th>\n",
       "      <th>女性年龄组（0-4岁）</th>\n",
       "      <th>女性年龄组（5-14岁）</th>\n",
       "      <th>女性年龄组（15-24岁）</th>\n",
       "    </tr>\n",
       "  </thead>\n",
       "  <tbody>\n",
       "    <tr>\n",
       "      <th>0</th>\n",
       "      <td>CN</td>\n",
       "      <td>2019</td>\n",
       "      <td>100</td>\n",
       "      <td>200</td>\n",
       "      <td>500</td>\n",
       "      <td>80</td>\n",
       "      <td>150</td>\n",
       "      <td>400</td>\n",
       "    </tr>\n",
       "    <tr>\n",
       "      <th>1</th>\n",
       "      <td>US</td>\n",
       "      <td>2019</td>\n",
       "      <td>50</td>\n",
       "      <td>150</td>\n",
       "      <td>300</td>\n",
       "      <td>40</td>\n",
       "      <td>100</td>\n",
       "      <td>200</td>\n",
       "    </tr>\n",
       "    <tr>\n",
       "      <th>2</th>\n",
       "      <td>JP</td>\n",
       "      <td>2019</td>\n",
       "      <td>30</td>\n",
       "      <td>120</td>\n",
       "      <td>250</td>\n",
       "      <td>20</td>\n",
       "      <td>80</td>\n",
       "      <td>150</td>\n",
       "    </tr>\n",
       "    <tr>\n",
       "      <th>3</th>\n",
       "      <td>IN</td>\n",
       "      <td>2019</td>\n",
       "      <td>80</td>\n",
       "      <td>180</td>\n",
       "      <td>400</td>\n",
       "      <td>60</td>\n",
       "      <td>120</td>\n",
       "      <td>300</td>\n",
       "    </tr>\n",
       "  </tbody>\n",
       "</table>\n",
       "</div>"
      ],
      "text/plain": [
       "  国家代码    年份  男性年龄组（0-4岁）  男性年龄组（5-14岁）  男性年龄组（15-24岁）  女性年龄组（0-4岁）  \\\n",
       "0   CN  2019          100           200            500           80   \n",
       "1   US  2019           50           150            300           40   \n",
       "2   JP  2019           30           120            250           20   \n",
       "3   IN  2019           80           180            400           60   \n",
       "\n",
       "   女性年龄组（5-14岁）  女性年龄组（15-24岁）  \n",
       "0           150            400  \n",
       "1           100            200  \n",
       "2            80            150  \n",
       "3           120            300  "
      ]
     },
     "execution_count": 7,
     "metadata": {},
     "output_type": "execute_result"
    }
   ],
   "source": [
    "df4 = pd.read_csv('example7.csv')\n",
    "df4"
   ]
  },
  {
   "cell_type": "markdown",
   "id": "3d7923b1-01e8-46a1-8b3b-d16b2ab64ec2",
   "metadata": {},
   "source": [
    "\n",
    "第一个参数传入要转换的DataFrame\n",
    "\n",
    "可选参数id_vars传入一个列表，里面放入想保持原样的列，那么除了id_vars列表里面之外的列，都会被视为要进行转换的列\n",
    "\n",
    "可选参数var_name，要被赋值为在转换后的DataFrame中，包含原本列名值的新列列名\n",
    "\n",
    "可选参数value_name，要被赋值为在转换后的DataFrame中，包含原本变量值的新列列名\n",
    "\n",
    "运行后，就会返回一个从原本宽数据转换成长数据的DataFrame"
   ]
  },
  {
   "cell_type": "code",
   "execution_count": 8,
   "id": "590033da-c8b0-4ac0-9cb8-984aa52fe3fc",
   "metadata": {},
   "outputs": [
    {
     "data": {
      "text/html": [
       "<div>\n",
       "<style scoped>\n",
       "    .dataframe tbody tr th:only-of-type {\n",
       "        vertical-align: middle;\n",
       "    }\n",
       "\n",
       "    .dataframe tbody tr th {\n",
       "        vertical-align: top;\n",
       "    }\n",
       "\n",
       "    .dataframe thead th {\n",
       "        text-align: right;\n",
       "    }\n",
       "</style>\n",
       "<table border=\"1\" class=\"dataframe\">\n",
       "  <thead>\n",
       "    <tr style=\"text-align: right;\">\n",
       "      <th></th>\n",
       "      <th>国家代码</th>\n",
       "      <th>年份</th>\n",
       "      <th>年龄组</th>\n",
       "      <th>肺结核病例数</th>\n",
       "    </tr>\n",
       "  </thead>\n",
       "  <tbody>\n",
       "    <tr>\n",
       "      <th>0</th>\n",
       "      <td>CN</td>\n",
       "      <td>2019</td>\n",
       "      <td>男性年龄组（0-4岁）</td>\n",
       "      <td>100</td>\n",
       "    </tr>\n",
       "    <tr>\n",
       "      <th>1</th>\n",
       "      <td>US</td>\n",
       "      <td>2019</td>\n",
       "      <td>男性年龄组（0-4岁）</td>\n",
       "      <td>50</td>\n",
       "    </tr>\n",
       "    <tr>\n",
       "      <th>2</th>\n",
       "      <td>JP</td>\n",
       "      <td>2019</td>\n",
       "      <td>男性年龄组（0-4岁）</td>\n",
       "      <td>30</td>\n",
       "    </tr>\n",
       "    <tr>\n",
       "      <th>3</th>\n",
       "      <td>IN</td>\n",
       "      <td>2019</td>\n",
       "      <td>男性年龄组（0-4岁）</td>\n",
       "      <td>80</td>\n",
       "    </tr>\n",
       "    <tr>\n",
       "      <th>4</th>\n",
       "      <td>CN</td>\n",
       "      <td>2019</td>\n",
       "      <td>男性年龄组（5-14岁）</td>\n",
       "      <td>200</td>\n",
       "    </tr>\n",
       "    <tr>\n",
       "      <th>5</th>\n",
       "      <td>US</td>\n",
       "      <td>2019</td>\n",
       "      <td>男性年龄组（5-14岁）</td>\n",
       "      <td>150</td>\n",
       "    </tr>\n",
       "    <tr>\n",
       "      <th>6</th>\n",
       "      <td>JP</td>\n",
       "      <td>2019</td>\n",
       "      <td>男性年龄组（5-14岁）</td>\n",
       "      <td>120</td>\n",
       "    </tr>\n",
       "    <tr>\n",
       "      <th>7</th>\n",
       "      <td>IN</td>\n",
       "      <td>2019</td>\n",
       "      <td>男性年龄组（5-14岁）</td>\n",
       "      <td>180</td>\n",
       "    </tr>\n",
       "    <tr>\n",
       "      <th>8</th>\n",
       "      <td>CN</td>\n",
       "      <td>2019</td>\n",
       "      <td>男性年龄组（15-24岁）</td>\n",
       "      <td>500</td>\n",
       "    </tr>\n",
       "    <tr>\n",
       "      <th>9</th>\n",
       "      <td>US</td>\n",
       "      <td>2019</td>\n",
       "      <td>男性年龄组（15-24岁）</td>\n",
       "      <td>300</td>\n",
       "    </tr>\n",
       "    <tr>\n",
       "      <th>10</th>\n",
       "      <td>JP</td>\n",
       "      <td>2019</td>\n",
       "      <td>男性年龄组（15-24岁）</td>\n",
       "      <td>250</td>\n",
       "    </tr>\n",
       "    <tr>\n",
       "      <th>11</th>\n",
       "      <td>IN</td>\n",
       "      <td>2019</td>\n",
       "      <td>男性年龄组（15-24岁）</td>\n",
       "      <td>400</td>\n",
       "    </tr>\n",
       "    <tr>\n",
       "      <th>12</th>\n",
       "      <td>CN</td>\n",
       "      <td>2019</td>\n",
       "      <td>女性年龄组（0-4岁）</td>\n",
       "      <td>80</td>\n",
       "    </tr>\n",
       "    <tr>\n",
       "      <th>13</th>\n",
       "      <td>US</td>\n",
       "      <td>2019</td>\n",
       "      <td>女性年龄组（0-4岁）</td>\n",
       "      <td>40</td>\n",
       "    </tr>\n",
       "    <tr>\n",
       "      <th>14</th>\n",
       "      <td>JP</td>\n",
       "      <td>2019</td>\n",
       "      <td>女性年龄组（0-4岁）</td>\n",
       "      <td>20</td>\n",
       "    </tr>\n",
       "    <tr>\n",
       "      <th>15</th>\n",
       "      <td>IN</td>\n",
       "      <td>2019</td>\n",
       "      <td>女性年龄组（0-4岁）</td>\n",
       "      <td>60</td>\n",
       "    </tr>\n",
       "    <tr>\n",
       "      <th>16</th>\n",
       "      <td>CN</td>\n",
       "      <td>2019</td>\n",
       "      <td>女性年龄组（5-14岁）</td>\n",
       "      <td>150</td>\n",
       "    </tr>\n",
       "    <tr>\n",
       "      <th>17</th>\n",
       "      <td>US</td>\n",
       "      <td>2019</td>\n",
       "      <td>女性年龄组（5-14岁）</td>\n",
       "      <td>100</td>\n",
       "    </tr>\n",
       "    <tr>\n",
       "      <th>18</th>\n",
       "      <td>JP</td>\n",
       "      <td>2019</td>\n",
       "      <td>女性年龄组（5-14岁）</td>\n",
       "      <td>80</td>\n",
       "    </tr>\n",
       "    <tr>\n",
       "      <th>19</th>\n",
       "      <td>IN</td>\n",
       "      <td>2019</td>\n",
       "      <td>女性年龄组（5-14岁）</td>\n",
       "      <td>120</td>\n",
       "    </tr>\n",
       "    <tr>\n",
       "      <th>20</th>\n",
       "      <td>CN</td>\n",
       "      <td>2019</td>\n",
       "      <td>女性年龄组（15-24岁）</td>\n",
       "      <td>400</td>\n",
       "    </tr>\n",
       "    <tr>\n",
       "      <th>21</th>\n",
       "      <td>US</td>\n",
       "      <td>2019</td>\n",
       "      <td>女性年龄组（15-24岁）</td>\n",
       "      <td>200</td>\n",
       "    </tr>\n",
       "    <tr>\n",
       "      <th>22</th>\n",
       "      <td>JP</td>\n",
       "      <td>2019</td>\n",
       "      <td>女性年龄组（15-24岁）</td>\n",
       "      <td>150</td>\n",
       "    </tr>\n",
       "    <tr>\n",
       "      <th>23</th>\n",
       "      <td>IN</td>\n",
       "      <td>2019</td>\n",
       "      <td>女性年龄组（15-24岁）</td>\n",
       "      <td>300</td>\n",
       "    </tr>\n",
       "  </tbody>\n",
       "</table>\n",
       "</div>"
      ],
      "text/plain": [
       "   国家代码    年份            年龄组  肺结核病例数\n",
       "0    CN  2019    男性年龄组（0-4岁）     100\n",
       "1    US  2019    男性年龄组（0-4岁）      50\n",
       "2    JP  2019    男性年龄组（0-4岁）      30\n",
       "3    IN  2019    男性年龄组（0-4岁）      80\n",
       "4    CN  2019   男性年龄组（5-14岁）     200\n",
       "5    US  2019   男性年龄组（5-14岁）     150\n",
       "6    JP  2019   男性年龄组（5-14岁）     120\n",
       "7    IN  2019   男性年龄组（5-14岁）     180\n",
       "8    CN  2019  男性年龄组（15-24岁）     500\n",
       "9    US  2019  男性年龄组（15-24岁）     300\n",
       "10   JP  2019  男性年龄组（15-24岁）     250\n",
       "11   IN  2019  男性年龄组（15-24岁）     400\n",
       "12   CN  2019    女性年龄组（0-4岁）      80\n",
       "13   US  2019    女性年龄组（0-4岁）      40\n",
       "14   JP  2019    女性年龄组（0-4岁）      20\n",
       "15   IN  2019    女性年龄组（0-4岁）      60\n",
       "16   CN  2019   女性年龄组（5-14岁）     150\n",
       "17   US  2019   女性年龄组（5-14岁）     100\n",
       "18   JP  2019   女性年龄组（5-14岁）      80\n",
       "19   IN  2019   女性年龄组（5-14岁）     120\n",
       "20   CN  2019  女性年龄组（15-24岁）     400\n",
       "21   US  2019  女性年龄组（15-24岁）     200\n",
       "22   JP  2019  女性年龄组（15-24岁）     150\n",
       "23   IN  2019  女性年龄组（15-24岁）     300"
      ]
     },
     "execution_count": 8,
     "metadata": {},
     "output_type": "execute_result"
    }
   ],
   "source": [
    "pd.melt(df4,id_vars=['国家代码','年份'],var_name='年龄组',value_name='肺结核病例数')"
   ]
  },
  {
   "cell_type": "markdown",
   "id": "e9e4198b-382f-4632-96ba-4c3200a62731",
   "metadata": {},
   "source": [
    "注意：这里并未改变原始dataframe，如需改变生效的话，可以重新复制。"
   ]
  },
  {
   "cell_type": "markdown",
   "id": "3ac47e92-b42e-4cb7-9bd7-9a22fdfe126e",
   "metadata": {},
   "source": [
    "### 五、对行进行拆分\n",
    "\n",
    "df.explode方法，传入需要拆分的变量名，就会返回一个把该列列表中每一个元素，转换为单独一行的新DataFrame\n",
    "\n",
    "这个方法很实用，当每个单元格是一个值而不是列表时，更好进行统计"
   ]
  },
  {
   "cell_type": "code",
   "execution_count": 55,
   "id": "a12bb73b-5758-4da4-b23a-b309d6ddb328",
   "metadata": {},
   "outputs": [
    {
     "data": {
      "text/html": [
       "<div>\n",
       "<style scoped>\n",
       "    .dataframe tbody tr th:only-of-type {\n",
       "        vertical-align: middle;\n",
       "    }\n",
       "\n",
       "    .dataframe tbody tr th {\n",
       "        vertical-align: top;\n",
       "    }\n",
       "\n",
       "    .dataframe thead th {\n",
       "        text-align: right;\n",
       "    }\n",
       "</style>\n",
       "<table border=\"1\" class=\"dataframe\">\n",
       "  <thead>\n",
       "    <tr style=\"text-align: right;\">\n",
       "      <th></th>\n",
       "      <th>学生姓名</th>\n",
       "      <th>学号</th>\n",
       "      <th>课程列表</th>\n",
       "    </tr>\n",
       "  </thead>\n",
       "  <tbody>\n",
       "    <tr>\n",
       "      <th>0</th>\n",
       "      <td>张三</td>\n",
       "      <td>1</td>\n",
       "      <td>['数学','物理']</td>\n",
       "    </tr>\n",
       "    <tr>\n",
       "      <th>1</th>\n",
       "      <td>李四</td>\n",
       "      <td>2</td>\n",
       "      <td>['英语','化学']</td>\n",
       "    </tr>\n",
       "    <tr>\n",
       "      <th>2</th>\n",
       "      <td>王五</td>\n",
       "      <td>3</td>\n",
       "      <td>['语文','数学','英语','政治']</td>\n",
       "    </tr>\n",
       "    <tr>\n",
       "      <th>3</th>\n",
       "      <td>赵六</td>\n",
       "      <td>4</td>\n",
       "      <td>['物理','生物']</td>\n",
       "    </tr>\n",
       "  </tbody>\n",
       "</table>\n",
       "</div>"
      ],
      "text/plain": [
       "  学生姓名  学号                   课程列表\n",
       "0   张三   1            ['数学','物理']\n",
       "1   李四   2            ['英语','化学']\n",
       "2   王五   3  ['语文','数学','英语','政治']\n",
       "3   赵六   4            ['物理','生物']"
      ]
     },
     "execution_count": 55,
     "metadata": {},
     "output_type": "execute_result"
    }
   ],
   "source": [
    "df5 = pd.read_csv('example8.csv')\n",
    "df5"
   ]
  },
  {
   "cell_type": "markdown",
   "id": "120430c8-efae-4ebc-a162-1715f9a8590c",
   "metadata": {},
   "source": [
    "这里的课程列表的各个值是字符串，不是列表形式，需要先将字符串转换为列表，才能使用explode进行拆分。"
   ]
  },
  {
   "cell_type": "code",
   "execution_count": 56,
   "id": "88014477-a7c5-4020-a6b0-7e02f6f9d9f9",
   "metadata": {},
   "outputs": [
    {
     "name": "stdout",
     "output_type": "stream",
     "text": [
      "0    <class 'str'>\n",
      "1    <class 'str'>\n",
      "2    <class 'str'>\n",
      "3    <class 'str'>\n",
      "Name: 课程列表, dtype: object\n"
     ]
    }
   ],
   "source": [
    "print(df5['课程列表'].apply(type))"
   ]
  },
  {
   "cell_type": "code",
   "execution_count": 57,
   "id": "cf458399-7c37-4ce0-9455-d1cebc0495f4",
   "metadata": {},
   "outputs": [],
   "source": [
    "import ast\n",
    "df5['课程列表'] = df5['课程列表'].apply(ast.literal_eval) "
   ]
  },
  {
   "cell_type": "code",
   "execution_count": 58,
   "id": "154d9a3a-f6b6-42e6-b40c-14d4ca04bf26",
   "metadata": {},
   "outputs": [
    {
     "data": {
      "text/html": [
       "<div>\n",
       "<style scoped>\n",
       "    .dataframe tbody tr th:only-of-type {\n",
       "        vertical-align: middle;\n",
       "    }\n",
       "\n",
       "    .dataframe tbody tr th {\n",
       "        vertical-align: top;\n",
       "    }\n",
       "\n",
       "    .dataframe thead th {\n",
       "        text-align: right;\n",
       "    }\n",
       "</style>\n",
       "<table border=\"1\" class=\"dataframe\">\n",
       "  <thead>\n",
       "    <tr style=\"text-align: right;\">\n",
       "      <th></th>\n",
       "      <th>学生姓名</th>\n",
       "      <th>学号</th>\n",
       "      <th>课程列表</th>\n",
       "    </tr>\n",
       "  </thead>\n",
       "  <tbody>\n",
       "    <tr>\n",
       "      <th>0</th>\n",
       "      <td>张三</td>\n",
       "      <td>1</td>\n",
       "      <td>数学</td>\n",
       "    </tr>\n",
       "    <tr>\n",
       "      <th>0</th>\n",
       "      <td>张三</td>\n",
       "      <td>1</td>\n",
       "      <td>物理</td>\n",
       "    </tr>\n",
       "    <tr>\n",
       "      <th>1</th>\n",
       "      <td>李四</td>\n",
       "      <td>2</td>\n",
       "      <td>英语</td>\n",
       "    </tr>\n",
       "    <tr>\n",
       "      <th>1</th>\n",
       "      <td>李四</td>\n",
       "      <td>2</td>\n",
       "      <td>化学</td>\n",
       "    </tr>\n",
       "    <tr>\n",
       "      <th>2</th>\n",
       "      <td>王五</td>\n",
       "      <td>3</td>\n",
       "      <td>语文</td>\n",
       "    </tr>\n",
       "    <tr>\n",
       "      <th>2</th>\n",
       "      <td>王五</td>\n",
       "      <td>3</td>\n",
       "      <td>数学</td>\n",
       "    </tr>\n",
       "    <tr>\n",
       "      <th>2</th>\n",
       "      <td>王五</td>\n",
       "      <td>3</td>\n",
       "      <td>英语</td>\n",
       "    </tr>\n",
       "    <tr>\n",
       "      <th>2</th>\n",
       "      <td>王五</td>\n",
       "      <td>3</td>\n",
       "      <td>政治</td>\n",
       "    </tr>\n",
       "    <tr>\n",
       "      <th>3</th>\n",
       "      <td>赵六</td>\n",
       "      <td>4</td>\n",
       "      <td>物理</td>\n",
       "    </tr>\n",
       "    <tr>\n",
       "      <th>3</th>\n",
       "      <td>赵六</td>\n",
       "      <td>4</td>\n",
       "      <td>生物</td>\n",
       "    </tr>\n",
       "  </tbody>\n",
       "</table>\n",
       "</div>"
      ],
      "text/plain": [
       "  学生姓名  学号 课程列表\n",
       "0   张三   1   数学\n",
       "0   张三   1   物理\n",
       "1   李四   2   英语\n",
       "1   李四   2   化学\n",
       "2   王五   3   语文\n",
       "2   王五   3   数学\n",
       "2   王五   3   英语\n",
       "2   王五   3   政治\n",
       "3   赵六   4   物理\n",
       "3   赵六   4   生物"
      ]
     },
     "execution_count": 58,
     "metadata": {},
     "output_type": "execute_result"
    }
   ],
   "source": [
    "df5 = df5.explode('课程列表')\n",
    "df5"
   ]
  },
  {
   "cell_type": "markdown",
   "id": "31899b56-befd-4e83-bb1e-cb0d6951595f",
   "metadata": {},
   "source": [
    "### 六、对行或者列进行删除\n",
    "\n",
    "使用drop方法"
   ]
  },
  {
   "cell_type": "markdown",
   "id": "ddbb3f83-0007-43c6-9c32-1d37531e5cfd",
   "metadata": {},
   "source": [
    "\n",
    "基本上，对DataFrame的操作方法，都是默认不改变原始DataFrame的，而是返回一个新的DataFrame\n",
    "\n",
    "要么就得进行重新赋值，要么指定可选参数inplace=True"
   ]
  }
 ],
 "metadata": {
  "kernelspec": {
   "display_name": "Python 3 (ipykernel)",
   "language": "python",
   "name": "python3"
  },
  "language_info": {
   "codemirror_mode": {
    "name": "ipython",
    "version": 3
   },
   "file_extension": ".py",
   "mimetype": "text/x-python",
   "name": "python",
   "nbconvert_exporter": "python",
   "pygments_lexer": "ipython3",
   "version": "3.12.1"
  }
 },
 "nbformat": 4,
 "nbformat_minor": 5
}
